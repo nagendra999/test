{
 "metadata": {
  "name": ""
 },
 "nbformat": 3,
 "nbformat_minor": 0,
 "worksheets": [
  {
   "cells": [
    {
     "cell_type": "code",
     "collapsed": false,
     "input": [
      "from urlparse import urlparse\n",
      "from ftplib import FTP\n",
      "\n",
      "url = \"ftp://ftp.ddbj.nig.ac.jp/ddbj_database/dra/fastq/ERA021/ERA021502/ERX010282/ERR029554.fastq.bz2\"\n",
      "parsed_url = urlparse(url)\n",
      "ftp = FTP(parsed_url.netloc)\n",
      "ftp.login()\n",
      "file_name = parsed_url.path.split('/')[-1:][0]\n",
      "\n",
      "print file_name \n",
      "path = parsed_url.path[:-len(file_name)]\n",
      "print path \n",
      "ftp.cwd(path)\n",
      "ftp.retrbinary('RETR ' + file_name, open(file_name, 'wb').write)\n",
      "ftp.quit()\n",
      "\n"
     ],
     "language": "python",
     "metadata": {},
     "outputs": [
      {
       "output_type": "stream",
       "stream": "stdout",
       "text": [
        "ERR029554.fastq.bz2\n",
        "/ddbj_database/dra/fastq/ERA021/ERA021502/ERX010282/\n"
       ]
      },
      {
       "metadata": {},
       "output_type": "pyout",
       "prompt_number": 9,
       "text": [
        "'221 Goodbye.'"
       ]
      }
     ],
     "prompt_number": 9
    },
    {
     "cell_type": "code",
     "collapsed": false,
     "input": [],
     "language": "python",
     "metadata": {},
     "outputs": []
    }
   ],
   "metadata": {}
  }
 ]
}